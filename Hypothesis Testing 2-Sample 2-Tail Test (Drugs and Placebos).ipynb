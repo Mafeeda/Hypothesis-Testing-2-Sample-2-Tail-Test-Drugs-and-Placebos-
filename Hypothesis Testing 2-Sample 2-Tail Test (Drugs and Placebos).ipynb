{
 "cells": [
  {
   "cell_type": "code",
   "execution_count": 1,
   "id": "45d072eb",
   "metadata": {},
   "outputs": [],
   "source": [
    "### Note: This python code states both 2-sample 1-tail and 2-sample 2-tail codes"
   ]
  },
  {
   "cell_type": "code",
   "execution_count": 2,
   "id": "ba2fea7f",
   "metadata": {},
   "outputs": [],
   "source": [
    "import pandas as pd\n",
    "import numpy as np\n",
    "from scipy import stats\n",
    "from scipy.stats import norm"
   ]
  },
  {
   "cell_type": "code",
   "execution_count": 3,
   "id": "8b043562",
   "metadata": {},
   "outputs": [],
   "source": [
    "Treat = pd.Series([101,110,103,93,99,104])\n",
    "Control = pd.Series([91,87,99,77,88,91])"
   ]
  },
  {
   "cell_type": "markdown",
   "id": "cd4a0991",
   "metadata": {},
   "source": [
    "\n",
    "### Treatment group mean is Mu1 Contrl group mean is Mu2 2-sample 2-tail ttest Assume Null Hypothesis Ho as Mu1 = Mu2 Thus Alternate Hypothesis Ha as Mu1 ≠ Mu2"
   ]
  },
  {
   "cell_type": "code",
   "execution_count": 4,
   "id": "e329cd62",
   "metadata": {},
   "outputs": [],
   "source": [
    "# As No direct code for 2-sample 1-tail ttest available with unknown SD and arrays of means\n",
    "# Hence we find probability using 2-sample 2-tail ttest and divide it by 2 to get 1-tail ttest"
   ]
  },
  {
   "cell_type": "code",
   "execution_count": 5,
   "id": "a691f99e",
   "metadata": {},
   "outputs": [
    {
     "data": {
      "text/plain": [
       "Ttest_indResult(statistic=3.445612673536487, pvalue=0.006272124350809803)"
      ]
     },
     "execution_count": 5,
     "metadata": {},
     "output_type": "execute_result"
    }
   ],
   "source": [
    "# 2-sample 2-tail ttest:   stats.ttest_ind(array1,array2)     # ind -> independent samples\n",
    "p_value=stats.ttest_ind(Treat,Control)\n",
    "p_value"
   ]
  },
  {
   "cell_type": "code",
   "execution_count": 6,
   "id": "7bfca528",
   "metadata": {},
   "outputs": [
    {
     "data": {
      "text/plain": [
       "0.006272124350809803"
      ]
     },
     "execution_count": 6,
     "metadata": {},
     "output_type": "execute_result"
    }
   ],
   "source": [
    "p_value[1]     # 2-tail probability (And if 1-tail probability required, divide this value by 2)\n"
   ]
  },
  {
   "cell_type": "code",
   "execution_count": 7,
   "id": "73eff1f6",
   "metadata": {},
   "outputs": [],
   "source": [
    "# compare p_value with α = 0.05"
   ]
  },
  {
   "cell_type": "markdown",
   "id": "f71f1c4e",
   "metadata": {},
   "source": [
    "## Inference: Since (p-value = 0.0062) < (α = 0.05); Reject Null Hypothesis i.e. Mu1 ≠ Mu2 Placebo control is not similar to Treatment by drugs"
   ]
  },
  {
   "cell_type": "code",
   "execution_count": null,
   "id": "66e3ba62",
   "metadata": {},
   "outputs": [],
   "source": []
  }
 ],
 "metadata": {
  "kernelspec": {
   "display_name": "Python 3",
   "language": "python",
   "name": "python3"
  },
  "language_info": {
   "codemirror_mode": {
    "name": "ipython",
    "version": 3
   },
   "file_extension": ".py",
   "mimetype": "text/x-python",
   "name": "python",
   "nbconvert_exporter": "python",
   "pygments_lexer": "ipython3",
   "version": "3.8.8"
  }
 },
 "nbformat": 4,
 "nbformat_minor": 5
}
